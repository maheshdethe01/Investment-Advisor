{
 "cells": [
  {
   "cell_type": "markdown",
   "metadata": {
    "id": "uQy0z-ShoAI6"
   },
   "source": [
    "1.Created an API Service account. - https://youtu.be/ddf5Z0aQPzY\n",
    "\n",
    "\n",
    "2.Importing necessary libraries.\n",
    "\n",
    "\n"
   ]
  },
  {
   "cell_type": "markdown",
   "metadata": {
    "id": "kP0lFFmX2yix"
   },
   "source": [
    "- To populate the Final Report(Google Sheet) using python"
   ]
  },
  {
   "cell_type": "code",
   "execution_count": 1,
   "metadata": {
    "id": "OH0UzMCWaQSf"
   },
   "outputs": [],
   "source": [
    "from oauth2client.service_account import ServiceAccountCredentials\n",
    "import gspread as gs\n",
    "import time\n",
    "import gspread_dataframe as gd"
   ]
  },
  {
   "cell_type": "code",
   "execution_count": 2,
   "metadata": {
    "id": "MHAJbCRzanIF"
   },
   "outputs": [],
   "source": [
    "scope =[\"https://spreadsheets.google.com/feeds\",'https://www.googleapis.com/auth/spreadsheets',\n",
    "        \"https://www.googleapis.com/auth/drive.file\",\"https://www.googleapis.com/auth/drive\"]\n"
   ]
  },
  {
   "cell_type": "code",
   "execution_count": 3,
   "metadata": {
    "id": "peECDzt4bJ1S"
   },
   "outputs": [],
   "source": [
    "creds=ServiceAccountCredentials.from_json_keyfile_name(r\"C:\\Users\\MAHESH DETHE\\Downloads\\GROUP PROJECT API KEY.json\",scope)"
   ]
  },
  {
   "cell_type": "code",
   "execution_count": 4,
   "metadata": {
    "id": "4mkepCmVtH7a"
   },
   "outputs": [],
   "source": [
    "client = gs.authorize(creds)"
   ]
  },
  {
   "cell_type": "code",
   "execution_count": 5,
   "metadata": {
    "id": "WQbeG7zkt_VN"
   },
   "outputs": [],
   "source": [
    "# accessing google sheets\n",
    "file1 = client.open(\"BSE500\").sheet1\n",
    "file2 = client.open(\"Income&Expense\").sheet1\n",
    "file3 = client.open(\"Final Report\").sheet1"
   ]
  },
  {
   "cell_type": "code",
   "execution_count": 6,
   "metadata": {
    "id": "sDjo0SlDuiNw"
   },
   "outputs": [],
   "source": [
    "BSE = gd.get_as_dataframe(file1)\n",
    "IncExp = gd.get_as_dataframe(file2)\n",
    "Report = gd.get_as_dataframe(file3)"
   ]
  },
  {
   "cell_type": "markdown",
   "metadata": {
    "id": "WlW--SJVnUWa"
   },
   "source": [
    "Make a new column in Gsheet 1 named “Delta” and populate it with (52 Week High - price)/(52 week High)"
   ]
  },
  {
   "cell_type": "code",
   "execution_count": 7,
   "metadata": {
    "colab": {
     "base_uri": "https://localhost:8080/"
    },
    "id": "06Yq08KxnZoq",
    "outputId": "b37af2d9-5a69-47ee-b4d8-a67b4df4dc1a"
   },
   "outputs": [
    {
     "data": {
      "text/plain": [
       "Index(['Company', 'BSE code', 'NSE code', 'ISIN', 'Sector', 'Industry', 'Date',\n",
       "       'Price', '1 day change(%)', '52 Week Low', '52 Week High', '3 Year Low',\n",
       "       '3 Year High', '5 Year Low', '5 Year High', 'All Time Low',\n",
       "       'All Time High', 'Market Cap(Cr)', 'Enterprise Value(Cr)',\n",
       "       '1-Week Return', '1-Month Return', '3-Month Return(%)',\n",
       "       '1-Year Return(%)', '3-Year Return', '5-Year Return(%)',\n",
       "       '10-Year Return(%)', 'Price to Earnings', 'Median P/E', 'Price to Book',\n",
       "       'Median P/B', 'Earning Yield(%)', 'Price earnings to growth',\n",
       "       'Dividend Yield(%)', 'EV / EBITDA', 'Price / Sales',\n",
       "       'Price / Cash Flow', 'Earning Per Share', 'Book Value Per Share',\n",
       "       'Cash Flow Per Share', 'Free Cash Flow Per Share', 'Dividend Per Share',\n",
       "       'Delta'],\n",
       "      dtype='object')"
      ]
     },
     "execution_count": 7,
     "metadata": {},
     "output_type": "execute_result"
    }
   ],
   "source": [
    "BSE.columns"
   ]
  },
  {
   "cell_type": "code",
   "execution_count": 8,
   "metadata": {
    "id": "EWyUtM5woLn3"
   },
   "outputs": [],
   "source": [
    "Delta = (BSE['52 Week High']- BSE['Price'])/BSE['52 Week High']"
   ]
  },
  {
   "cell_type": "code",
   "execution_count": 9,
   "metadata": {
    "id": "BYaA8-ompiap"
   },
   "outputs": [],
   "source": [
    "BSE[\"Delta\"] = Delta"
   ]
  },
  {
   "cell_type": "code",
   "execution_count": 10,
   "metadata": {
    "colab": {
     "base_uri": "https://localhost:8080/",
     "height": 508
    },
    "id": "VUwKjlhUpq9J",
    "outputId": "90a5d947-7a97-412e-9345-1959ba569668"
   },
   "outputs": [
    {
     "data": {
      "text/html": [
       "<div>\n",
       "<style scoped>\n",
       "    .dataframe tbody tr th:only-of-type {\n",
       "        vertical-align: middle;\n",
       "    }\n",
       "\n",
       "    .dataframe tbody tr th {\n",
       "        vertical-align: top;\n",
       "    }\n",
       "\n",
       "    .dataframe thead th {\n",
       "        text-align: right;\n",
       "    }\n",
       "</style>\n",
       "<table border=\"1\" class=\"dataframe\">\n",
       "  <thead>\n",
       "    <tr style=\"text-align: right;\">\n",
       "      <th></th>\n",
       "      <th>Company</th>\n",
       "      <th>BSE code</th>\n",
       "      <th>NSE code</th>\n",
       "      <th>ISIN</th>\n",
       "      <th>Sector</th>\n",
       "      <th>Industry</th>\n",
       "      <th>Date</th>\n",
       "      <th>Price</th>\n",
       "      <th>1 day change(%)</th>\n",
       "      <th>52 Week Low</th>\n",
       "      <th>...</th>\n",
       "      <th>Dividend Yield(%)</th>\n",
       "      <th>EV / EBITDA</th>\n",
       "      <th>Price / Sales</th>\n",
       "      <th>Price / Cash Flow</th>\n",
       "      <th>Earning Per Share</th>\n",
       "      <th>Book Value Per Share</th>\n",
       "      <th>Cash Flow Per Share</th>\n",
       "      <th>Free Cash Flow Per Share</th>\n",
       "      <th>Dividend Per Share</th>\n",
       "      <th>Delta</th>\n",
       "    </tr>\n",
       "  </thead>\n",
       "  <tbody>\n",
       "    <tr>\n",
       "      <th>0</th>\n",
       "      <td>Sanofi India Ltd.</td>\n",
       "      <td>500674.0</td>\n",
       "      <td>SANOFI</td>\n",
       "      <td>INE058A01010</td>\n",
       "      <td>Healthcare</td>\n",
       "      <td>Drugs &amp; Pharma</td>\n",
       "      <td>2022-09-05</td>\n",
       "      <td>6158.70</td>\n",
       "      <td>0.593726</td>\n",
       "      <td>6086.30</td>\n",
       "      <td>...</td>\n",
       "      <td>7.9533</td>\n",
       "      <td>16.682293</td>\n",
       "      <td>4.980927</td>\n",
       "      <td>25.392209</td>\n",
       "      <td>425.0862</td>\n",
       "      <td>631.6506</td>\n",
       "      <td>242.956522</td>\n",
       "      <td>459.217391</td>\n",
       "      <td>490.0</td>\n",
       "      <td>0.279073</td>\n",
       "    </tr>\n",
       "    <tr>\n",
       "      <th>1</th>\n",
       "      <td>Page Industries Ltd.</td>\n",
       "      <td>532827.0</td>\n",
       "      <td>PAGEIND</td>\n",
       "      <td>INE761H01022</td>\n",
       "      <td>Textiles</td>\n",
       "      <td>Readymade Garments</td>\n",
       "      <td>2022-09-05</td>\n",
       "      <td>49786.20</td>\n",
       "      <td>-0.259937</td>\n",
       "      <td>31500.00</td>\n",
       "      <td>...</td>\n",
       "      <td>0.7433</td>\n",
       "      <td>51.785329</td>\n",
       "      <td>11.748089</td>\n",
       "      <td>169.843663</td>\n",
       "      <td>656.8292</td>\n",
       "      <td>1161.6259</td>\n",
       "      <td>293.088578</td>\n",
       "      <td>191.031917</td>\n",
       "      <td>370.0</td>\n",
       "      <td>0.033278</td>\n",
       "    </tr>\n",
       "    <tr>\n",
       "      <th>2</th>\n",
       "      <td>Procter &amp; Gamble Hygiene &amp; Health Care Ltd.</td>\n",
       "      <td>500459.0</td>\n",
       "      <td>PGHH</td>\n",
       "      <td>INE179A01014</td>\n",
       "      <td>Consumer Staples</td>\n",
       "      <td>Household &amp; Personal Products</td>\n",
       "      <td>2022-09-05</td>\n",
       "      <td>14125.65</td>\n",
       "      <td>0.235943</td>\n",
       "      <td>12801.00</td>\n",
       "      <td>...</td>\n",
       "      <td>1.1318</td>\n",
       "      <td>52.711801</td>\n",
       "      <td>12.100589</td>\n",
       "      <td>53.168596</td>\n",
       "      <td>177.3681</td>\n",
       "      <td>227.2194</td>\n",
       "      <td>265.902649</td>\n",
       "      <td>270.468269</td>\n",
       "      <td>315.0</td>\n",
       "      <td>0.142153</td>\n",
       "    </tr>\n",
       "    <tr>\n",
       "      <th>3</th>\n",
       "      <td>Abbott India Ltd.</td>\n",
       "      <td>500488.0</td>\n",
       "      <td>ABBOTINDIA</td>\n",
       "      <td>INE358A01014</td>\n",
       "      <td>Healthcare</td>\n",
       "      <td>Drugs &amp; Pharma</td>\n",
       "      <td>2022-09-05</td>\n",
       "      <td>18209.00</td>\n",
       "      <td>-1.264759</td>\n",
       "      <td>15514.00</td>\n",
       "      <td>...</td>\n",
       "      <td>1.5100</td>\n",
       "      <td>30.982268</td>\n",
       "      <td>7.730778</td>\n",
       "      <td>40.836169</td>\n",
       "      <td>380.5207</td>\n",
       "      <td>1402.9963</td>\n",
       "      <td>445.957647</td>\n",
       "      <td>446.903529</td>\n",
       "      <td>275.0</td>\n",
       "      <td>0.239214</td>\n",
       "    </tr>\n",
       "    <tr>\n",
       "      <th>4</th>\n",
       "      <td>Bosch Ltd.</td>\n",
       "      <td>500530.0</td>\n",
       "      <td>BOSCHLTD</td>\n",
       "      <td>INE323A01026</td>\n",
       "      <td>Automobile</td>\n",
       "      <td>Auto Ancillaries</td>\n",
       "      <td>2022-09-05</td>\n",
       "      <td>17591.10</td>\n",
       "      <td>0.130919</td>\n",
       "      <td>12932.45</td>\n",
       "      <td>...</td>\n",
       "      <td>1.1937</td>\n",
       "      <td>25.043204</td>\n",
       "      <td>4.027383</td>\n",
       "      <td>192.657100</td>\n",
       "      <td>438.1080</td>\n",
       "      <td>3734.3284</td>\n",
       "      <td>91.288136</td>\n",
       "      <td>46.677966</td>\n",
       "      <td>210.0</td>\n",
       "      <td>0.086177</td>\n",
       "    </tr>\n",
       "  </tbody>\n",
       "</table>\n",
       "<p>5 rows × 42 columns</p>\n",
       "</div>"
      ],
      "text/plain": [
       "                                       Company  BSE code    NSE code  \\\n",
       "0                            Sanofi India Ltd.  500674.0      SANOFI   \n",
       "1                         Page Industries Ltd.  532827.0     PAGEIND   \n",
       "2  Procter & Gamble Hygiene & Health Care Ltd.  500459.0        PGHH   \n",
       "3                            Abbott India Ltd.  500488.0  ABBOTINDIA   \n",
       "4                                   Bosch Ltd.  500530.0    BOSCHLTD   \n",
       "\n",
       "           ISIN            Sector                       Industry        Date  \\\n",
       "0  INE058A01010        Healthcare                 Drugs & Pharma  2022-09-05   \n",
       "1  INE761H01022          Textiles             Readymade Garments  2022-09-05   \n",
       "2  INE179A01014  Consumer Staples  Household & Personal Products  2022-09-05   \n",
       "3  INE358A01014        Healthcare                 Drugs & Pharma  2022-09-05   \n",
       "4  INE323A01026        Automobile               Auto Ancillaries  2022-09-05   \n",
       "\n",
       "      Price  1 day change(%)  52 Week Low  ...  Dividend Yield(%)  \\\n",
       "0   6158.70         0.593726      6086.30  ...             7.9533   \n",
       "1  49786.20        -0.259937     31500.00  ...             0.7433   \n",
       "2  14125.65         0.235943     12801.00  ...             1.1318   \n",
       "3  18209.00        -1.264759     15514.00  ...             1.5100   \n",
       "4  17591.10         0.130919     12932.45  ...             1.1937   \n",
       "\n",
       "   EV / EBITDA  Price / Sales  Price / Cash Flow  Earning Per Share  \\\n",
       "0    16.682293       4.980927          25.392209           425.0862   \n",
       "1    51.785329      11.748089         169.843663           656.8292   \n",
       "2    52.711801      12.100589          53.168596           177.3681   \n",
       "3    30.982268       7.730778          40.836169           380.5207   \n",
       "4    25.043204       4.027383         192.657100           438.1080   \n",
       "\n",
       "   Book Value Per Share  Cash Flow Per Share  Free Cash Flow Per Share  \\\n",
       "0              631.6506           242.956522                459.217391   \n",
       "1             1161.6259           293.088578                191.031917   \n",
       "2              227.2194           265.902649                270.468269   \n",
       "3             1402.9963           445.957647                446.903529   \n",
       "4             3734.3284            91.288136                 46.677966   \n",
       "\n",
       "   Dividend Per Share     Delta  \n",
       "0               490.0  0.279073  \n",
       "1               370.0  0.033278  \n",
       "2               315.0  0.142153  \n",
       "3               275.0  0.239214  \n",
       "4               210.0  0.086177  \n",
       "\n",
       "[5 rows x 42 columns]"
      ]
     },
     "execution_count": 10,
     "metadata": {},
     "output_type": "execute_result"
    }
   ],
   "source": [
    "BSE[BSE[\"Delta\"] >0].head()"
   ]
  },
  {
   "cell_type": "markdown",
   "metadata": {},
   "source": [
    "Finding top 5 companies for each Higher,Lower,Moderate Risks"
   ]
  },
  {
   "cell_type": "markdown",
   "metadata": {},
   "source": [
    "- High Risk Taking"
   ]
  },
  {
   "cell_type": "code",
   "execution_count": 11,
   "metadata": {},
   "outputs": [
    {
     "data": {
      "text/plain": [
       "['MOIL Ltd.',\n",
       " 'Responsive Industries Ltd.',\n",
       " 'Vakrangee Ltd.',\n",
       " 'Hathway Cable & Datacom Ltd.',\n",
       " 'Strides Pharma Science Ltd.']"
      ]
     },
     "execution_count": 11,
     "metadata": {},
     "output_type": "execute_result"
    }
   ],
   "source": [
    "df_HRT = BSE[(BSE[\"Delta\"]>0) & (BSE['Market Cap(Cr)']<4000) & \n",
    "    (BSE['10-Year Return(%)']<8)].sort_values(by = ['Dividend Per Share'],ascending=False).head()\n",
    "# Top 5 Companies\n",
    "top_HRT = df_HRT[\"Company\"].to_list()\n",
    "top_HRT"
   ]
  },
  {
   "cell_type": "markdown",
   "metadata": {},
   "source": [
    "- Risk Taking"
   ]
  },
  {
   "cell_type": "code",
   "execution_count": 12,
   "metadata": {},
   "outputs": [
    {
     "data": {
      "text/plain": [
       "['The Great Eastern Shipping Company Ltd.',\n",
       " 'Welspun Corp Ltd.',\n",
       " 'Jyothy Labs Ltd.',\n",
       " 'Gujarat State Fertilizers & Chemicals Ltd.',\n",
       " 'NCC Ltd.']"
      ]
     },
     "execution_count": 12,
     "metadata": {},
     "output_type": "execute_result"
    }
   ],
   "source": [
    "df_RT = BSE[  (BSE[\"Delta\"]>0) & \n",
    "              ((BSE['Market Cap(Cr)']>4000) & (BSE['Market Cap(Cr)']<8000)) & \n",
    "              ((BSE['10-Year Return(%)']>=8) & (BSE['10-Year Return(%)']<15))].sort_values(by = ['Dividend Per Share'],\n",
    "                                                                              ascending=False).head()\n",
    "# Top 5 Companies\n",
    "top_RT = df_RT[\"Company\"].to_list()\n",
    "top_RT"
   ]
  },
  {
   "cell_type": "markdown",
   "metadata": {},
   "source": [
    "- Moderate Risk Taking"
   ]
  },
  {
   "cell_type": "code",
   "execution_count": 13,
   "metadata": {},
   "outputs": [
    {
     "data": {
      "text/plain": [
       "['Cyient Ltd.',\n",
       " 'Chambal Fertilisers & Chemicals Ltd.',\n",
       " 'Redington India Ltd.',\n",
       " 'BASF India Ltd.',\n",
       " 'Zydus Wellness Ltd.']"
      ]
     },
     "execution_count": 13,
     "metadata": {},
     "output_type": "execute_result"
    }
   ],
   "source": [
    "df_MRT = BSE[  (BSE[\"Delta\"]>0) & \n",
    "              ((BSE['Market Cap(Cr)']>8000) & (BSE['Market Cap(Cr)']<15000)) & \n",
    "              ((BSE['10-Year Return(%)']>=15) & (BSE['10-Year Return(%)']<20))].sort_values(by = ['Dividend Per Share'],\n",
    "                                                                              ascending=False).head()\n",
    "# Top 5 Companies\n",
    "top_MRT = df_MRT[\"Company\"].to_list()\n",
    "top_MRT"
   ]
  },
  {
   "cell_type": "markdown",
   "metadata": {},
   "source": [
    "- Low Risk Taking"
   ]
  },
  {
   "cell_type": "code",
   "execution_count": 14,
   "metadata": {},
   "outputs": [
    {
     "data": {
      "text/plain": [
       "['Page Industries Ltd.',\n",
       " 'Abbott India Ltd.',\n",
       " 'MRF Ltd.',\n",
       " 'Bajaj Holdings & Investment Ltd.',\n",
       " 'Honeywell Automation India Ltd.']"
      ]
     },
     "execution_count": 14,
     "metadata": {},
     "output_type": "execute_result"
    }
   ],
   "source": [
    "df_LRT = BSE[(BSE[\"Delta\"]>0) & (BSE['Market Cap(Cr)']>15000) & \n",
    "    (BSE['10-Year Return(%)']>=20)].sort_values(by = ['Dividend Per Share'],ascending=False).head()\n",
    "# Top 5 Companies\n",
    "top_LRT = df_LRT[\"Company\"].to_list()\n",
    "top_LRT"
   ]
  },
  {
   "cell_type": "code",
   "execution_count": 19,
   "metadata": {},
   "outputs": [
    {
     "data": {
      "text/html": [
       "<div>\n",
       "<style scoped>\n",
       "    .dataframe tbody tr th:only-of-type {\n",
       "        vertical-align: middle;\n",
       "    }\n",
       "\n",
       "    .dataframe tbody tr th {\n",
       "        vertical-align: top;\n",
       "    }\n",
       "\n",
       "    .dataframe thead th {\n",
       "        text-align: right;\n",
       "    }\n",
       "</style>\n",
       "<table border=\"1\" class=\"dataframe\">\n",
       "  <thead>\n",
       "    <tr style=\"text-align: right;\">\n",
       "      <th></th>\n",
       "      <th>Industry</th>\n",
       "      <th>Company_x</th>\n",
       "      <th>Company_y</th>\n",
       "    </tr>\n",
       "  </thead>\n",
       "  <tbody>\n",
       "    <tr>\n",
       "      <th>0</th>\n",
       "      <td>ACs &amp; Refrigerators</td>\n",
       "      <td>2</td>\n",
       "      <td>4</td>\n",
       "    </tr>\n",
       "    <tr>\n",
       "      <th>1</th>\n",
       "      <td>Air Transport</td>\n",
       "      <td>1</td>\n",
       "      <td>1</td>\n",
       "    </tr>\n",
       "    <tr>\n",
       "      <th>2</th>\n",
       "      <td>Asset Management Companies</td>\n",
       "      <td>1</td>\n",
       "      <td>1</td>\n",
       "    </tr>\n",
       "    <tr>\n",
       "      <th>3</th>\n",
       "      <td>Auto Ancillaries</td>\n",
       "      <td>1</td>\n",
       "      <td>9</td>\n",
       "    </tr>\n",
       "    <tr>\n",
       "      <th>4</th>\n",
       "      <td>Banking</td>\n",
       "      <td>10</td>\n",
       "      <td>15</td>\n",
       "    </tr>\n",
       "    <tr>\n",
       "      <th>5</th>\n",
       "      <td>Cement</td>\n",
       "      <td>1</td>\n",
       "      <td>13</td>\n",
       "    </tr>\n",
       "    <tr>\n",
       "      <th>6</th>\n",
       "      <td>Communication Equipment</td>\n",
       "      <td>1</td>\n",
       "      <td>3</td>\n",
       "    </tr>\n",
       "    <tr>\n",
       "      <th>7</th>\n",
       "      <td>Construction</td>\n",
       "      <td>2</td>\n",
       "      <td>5</td>\n",
       "    </tr>\n",
       "    <tr>\n",
       "      <th>8</th>\n",
       "      <td>Drugs &amp; Pharma</td>\n",
       "      <td>5</td>\n",
       "      <td>31</td>\n",
       "    </tr>\n",
       "    <tr>\n",
       "      <th>9</th>\n",
       "      <td>E-Commerce</td>\n",
       "      <td>1</td>\n",
       "      <td>3</td>\n",
       "    </tr>\n",
       "    <tr>\n",
       "      <th>10</th>\n",
       "      <td>Food Processing</td>\n",
       "      <td>1</td>\n",
       "      <td>2</td>\n",
       "    </tr>\n",
       "    <tr>\n",
       "      <th>11</th>\n",
       "      <td>Gems, Jewellery &amp; Accessories</td>\n",
       "      <td>1</td>\n",
       "      <td>2</td>\n",
       "    </tr>\n",
       "    <tr>\n",
       "      <th>12</th>\n",
       "      <td>General Insurance</td>\n",
       "      <td>1</td>\n",
       "      <td>1</td>\n",
       "    </tr>\n",
       "    <tr>\n",
       "      <th>13</th>\n",
       "      <td>Household &amp; Personal Products</td>\n",
       "      <td>1</td>\n",
       "      <td>7</td>\n",
       "    </tr>\n",
       "    <tr>\n",
       "      <th>14</th>\n",
       "      <td>Housing Finance</td>\n",
       "      <td>2</td>\n",
       "      <td>5</td>\n",
       "    </tr>\n",
       "    <tr>\n",
       "      <th>15</th>\n",
       "      <td>Media &amp; Entertainment</td>\n",
       "      <td>1</td>\n",
       "      <td>4</td>\n",
       "    </tr>\n",
       "    <tr>\n",
       "      <th>16</th>\n",
       "      <td>Misc. Fin.services</td>\n",
       "      <td>5</td>\n",
       "      <td>9</td>\n",
       "    </tr>\n",
       "    <tr>\n",
       "      <th>17</th>\n",
       "      <td>Natural Gas Utilities</td>\n",
       "      <td>1</td>\n",
       "      <td>6</td>\n",
       "    </tr>\n",
       "    <tr>\n",
       "      <th>18</th>\n",
       "      <td>Oil Refineries &amp; Marketing</td>\n",
       "      <td>3</td>\n",
       "      <td>2</td>\n",
       "    </tr>\n",
       "    <tr>\n",
       "      <th>19</th>\n",
       "      <td>Power Projects</td>\n",
       "      <td>2</td>\n",
       "      <td>3</td>\n",
       "    </tr>\n",
       "    <tr>\n",
       "      <th>20</th>\n",
       "      <td>SIDCs/SFCs</td>\n",
       "      <td>1</td>\n",
       "      <td>2</td>\n",
       "    </tr>\n",
       "    <tr>\n",
       "      <th>21</th>\n",
       "      <td>Telecom Services</td>\n",
       "      <td>1</td>\n",
       "      <td>4</td>\n",
       "    </tr>\n",
       "    <tr>\n",
       "      <th>22</th>\n",
       "      <td>Tobacco Products</td>\n",
       "      <td>1</td>\n",
       "      <td>2</td>\n",
       "    </tr>\n",
       "  </tbody>\n",
       "</table>\n",
       "</div>"
      ],
      "text/plain": [
       "                         Industry  Company_x  Company_y\n",
       "0             ACs & Refrigerators          2          4\n",
       "1                   Air Transport          1          1\n",
       "2      Asset Management Companies          1          1\n",
       "3                Auto Ancillaries          1          9\n",
       "4                         Banking         10         15\n",
       "5                          Cement          1         13\n",
       "6         Communication Equipment          1          3\n",
       "7                    Construction          2          5\n",
       "8                  Drugs & Pharma          5         31\n",
       "9                      E-Commerce          1          3\n",
       "10                Food Processing          1          2\n",
       "11  Gems, Jewellery & Accessories          1          2\n",
       "12              General Insurance          1          1\n",
       "13  Household & Personal Products          1          7\n",
       "14                Housing Finance          2          5\n",
       "15          Media & Entertainment          1          4\n",
       "16             Misc. Fin.services          5          9\n",
       "17          Natural Gas Utilities          1          6\n",
       "18     Oil Refineries & Marketing          3          2\n",
       "19                 Power Projects          2          3\n",
       "20                     SIDCs/SFCs          1          2\n",
       "21               Telecom Services          1          4\n",
       "22               Tobacco Products          1          2"
      ]
     },
     "execution_count": 19,
     "metadata": {},
     "output_type": "execute_result"
    }
   ],
   "source": [
    "df1 = BSE.loc[BSE[\"3-Year Return\"]<0,[\"Industry\",\"Company\"]].groupby(\"Industry\").count().reset_index()\n",
    "df2 = BSE.loc[BSE[\"3-Year Return\"]>0,[\"Industry\",\"Company\"]].groupby(\"Industry\").count().reset_index()\n",
    "table1 = df1.merge(df2,how = \"inner\",on = \"Industry\")\n",
    "# table1.to_csv('_3_year_return')"
   ]
  },
  {
   "cell_type": "code",
   "execution_count": 20,
   "metadata": {},
   "outputs": [],
   "source": [
    "list_allow = ['Food','Other','Transportation','Social Life','HouseHold','Apparel',\n",
    "         'Education','Salary','Allowance','Beauty','Gift','Petty cash']"
   ]
  },
  {
   "cell_type": "code",
   "execution_count": 21,
   "metadata": {},
   "outputs": [],
   "source": [
    "def repetation():\n",
    "    for i in range(len(list_allow)):\n",
    "        x = IncExp.loc[IncExp['Category'] == list_allow[i],\"Account.1\"].sum()\n",
    "        file3.update_cell(3+i,3,x)     "
   ]
  },
  {
   "cell_type": "markdown",
   "metadata": {},
   "source": [
    "Changing dropdown - IF else condition "
   ]
  },
  {
   "cell_type": "code",
   "execution_count": 22,
   "metadata": {},
   "outputs": [],
   "source": [
    "def change():\n",
    "    # updating net income,expense and amount\n",
    "    Net_inc = IncExp.loc[IncExp['Income/Expense'] == \"Income\",\"Account.1\"].sum().astype(float)\n",
    "    Net_exp = IncExp.loc[IncExp['Income/Expense'] == \"Expense\",\"Account.1\"].sum().astype(float)\n",
    "    file3.update_cell(16,3,Net_inc)\n",
    "    file3.update_cell(17,3,Net_exp)\n",
    "    Invest_Rs = Net_inc - Net_exp\n",
    "    ava_invest = float(Invest_Rs)\n",
    "    file3.update_cell(18,3,Invest_Rs)\n",
    "    repetation()\n",
    "    m = file3.cell(10,6)\n",
    "    if m.value == \"Moderate Risk Taking\":\n",
    "        for i in range(0,5):\n",
    "            file3.update_cell(4+i,6,top_MRT[i-1])\n",
    "            file3.update_cell(4+i,7,ava_invest/5)\n",
    "    elif m.value == \"High Risk Taking\":\n",
    "        for i in range(0,5):\n",
    "            file3.update_cell(4+i,6,top_HRT[i-1])\n",
    "            file3.update_cell(4+i,7,ava_invest/5)\n",
    "    elif m.value == \"Low Risk Taking\":\n",
    "        for i in range(0,5):\n",
    "            file3.update_cell(4+i,6,top_LRT[i-1])\n",
    "            file3.update_cell(4+i,7,ava_invest/5) \n",
    "    elif m.value == \"Risk Taking\" :\n",
    "        for i in range(0,5):\n",
    "            file3.update_cell(4+i,6,top_RT[i-1])\n",
    "            file3.update_cell(4+i,7,ava_invest/5)           "
   ]
  },
  {
   "cell_type": "code",
   "execution_count": 23,
   "metadata": {},
   "outputs": [
    {
     "ename": "APIError",
     "evalue": "{'code': 429, 'message': \"Quota exceeded for quota metric 'Write requests' and limit 'Write requests per minute per user' of service 'sheets.googleapis.com' for consumer 'project_number:902170699260'.\", 'status': 'RESOURCE_EXHAUSTED', 'details': [{'@type': 'type.googleapis.com/google.rpc.ErrorInfo', 'reason': 'RATE_LIMIT_EXCEEDED', 'domain': 'googleapis.com', 'metadata': {'service': 'sheets.googleapis.com', 'quota_location': 'global', 'quota_metric': 'sheets.googleapis.com/write_requests', 'consumer': 'projects/902170699260', 'quota_limit_value': '60', 'quota_limit': 'WriteRequestsPerMinutePerUser'}}, {'@type': 'type.googleapis.com/google.rpc.Help', 'links': [{'description': 'Request a higher quota limit.', 'url': 'https://cloud.google.com/docs/quota#requesting_higher_quota'}]}]}",
     "output_type": "error",
     "traceback": [
      "\u001b[1;31m---------------------------------------------------------------------------\u001b[0m",
      "\u001b[1;31mAPIError\u001b[0m                                  Traceback (most recent call last)",
      "Input \u001b[1;32mIn [23]\u001b[0m, in \u001b[0;36m<cell line: 2>\u001b[1;34m()\u001b[0m\n\u001b[0;32m      1\u001b[0m \u001b[38;5;28;01mwhile\u001b[39;00m (\u001b[38;5;28;01mTrue\u001b[39;00m):\n\u001b[1;32m----> 2\u001b[0m     \u001b[43mchange\u001b[49m\u001b[43m(\u001b[49m\u001b[43m)\u001b[49m\n\u001b[0;32m      3\u001b[0m     time\u001b[38;5;241m.\u001b[39msleep(\u001b[38;5;241m1\u001b[39m)\n",
      "Input \u001b[1;32mIn [22]\u001b[0m, in \u001b[0;36mchange\u001b[1;34m()\u001b[0m\n\u001b[0;32m     12\u001b[0m     \u001b[38;5;28;01mfor\u001b[39;00m i \u001b[38;5;129;01min\u001b[39;00m \u001b[38;5;28mrange\u001b[39m(\u001b[38;5;241m0\u001b[39m,\u001b[38;5;241m5\u001b[39m):\n\u001b[0;32m     13\u001b[0m         file3\u001b[38;5;241m.\u001b[39mupdate_cell(\u001b[38;5;241m4\u001b[39m\u001b[38;5;241m+\u001b[39mi,\u001b[38;5;241m6\u001b[39m,top_MRT[i\u001b[38;5;241m-\u001b[39m\u001b[38;5;241m1\u001b[39m])\n\u001b[1;32m---> 14\u001b[0m         \u001b[43mfile3\u001b[49m\u001b[38;5;241;43m.\u001b[39;49m\u001b[43mupdate_cell\u001b[49m\u001b[43m(\u001b[49m\u001b[38;5;241;43m4\u001b[39;49m\u001b[38;5;241;43m+\u001b[39;49m\u001b[43mi\u001b[49m\u001b[43m,\u001b[49m\u001b[38;5;241;43m7\u001b[39;49m\u001b[43m,\u001b[49m\u001b[43mava_invest\u001b[49m\u001b[38;5;241;43m/\u001b[39;49m\u001b[38;5;241;43m5\u001b[39;49m\u001b[43m)\u001b[49m\n\u001b[0;32m     15\u001b[0m \u001b[38;5;28;01melif\u001b[39;00m m\u001b[38;5;241m.\u001b[39mvalue \u001b[38;5;241m==\u001b[39m \u001b[38;5;124m\"\u001b[39m\u001b[38;5;124mHigh Risk Taking\u001b[39m\u001b[38;5;124m\"\u001b[39m:\n\u001b[0;32m     16\u001b[0m     \u001b[38;5;28;01mfor\u001b[39;00m i \u001b[38;5;129;01min\u001b[39;00m \u001b[38;5;28mrange\u001b[39m(\u001b[38;5;241m0\u001b[39m,\u001b[38;5;241m5\u001b[39m):\n",
      "File \u001b[1;32m~\\AppData\\Roaming\\Python\\Python39\\site-packages\\gspread\\worksheet.py:604\u001b[0m, in \u001b[0;36mWorksheet.update_cell\u001b[1;34m(self, row, col, value)\u001b[0m\n\u001b[0;32m    592\u001b[0m \u001b[38;5;124;03m\"\"\"Updates the value of a cell.\u001b[39;00m\n\u001b[0;32m    593\u001b[0m \n\u001b[0;32m    594\u001b[0m \u001b[38;5;124;03m:param int row: Row number.\u001b[39;00m\n\u001b[1;32m   (...)\u001b[0m\n\u001b[0;32m    600\u001b[0m \u001b[38;5;124;03m    worksheet.update_cell(1, 1, '42')\u001b[39;00m\n\u001b[0;32m    601\u001b[0m \u001b[38;5;124;03m\"\"\"\u001b[39;00m\n\u001b[0;32m    602\u001b[0m range_name \u001b[38;5;241m=\u001b[39m absolute_range_name(\u001b[38;5;28mself\u001b[39m\u001b[38;5;241m.\u001b[39mtitle, rowcol_to_a1(row, col))\n\u001b[1;32m--> 604\u001b[0m data \u001b[38;5;241m=\u001b[39m \u001b[38;5;28;43mself\u001b[39;49m\u001b[38;5;241;43m.\u001b[39;49m\u001b[43mspreadsheet\u001b[49m\u001b[38;5;241;43m.\u001b[39;49m\u001b[43mvalues_update\u001b[49m\u001b[43m(\u001b[49m\n\u001b[0;32m    605\u001b[0m \u001b[43m    \u001b[49m\u001b[43mrange_name\u001b[49m\u001b[43m,\u001b[49m\n\u001b[0;32m    606\u001b[0m \u001b[43m    \u001b[49m\u001b[43mparams\u001b[49m\u001b[38;5;241;43m=\u001b[39;49m\u001b[43m{\u001b[49m\u001b[38;5;124;43m\"\u001b[39;49m\u001b[38;5;124;43mvalueInputOption\u001b[39;49m\u001b[38;5;124;43m\"\u001b[39;49m\u001b[43m:\u001b[49m\u001b[43m \u001b[49m\u001b[43mValueInputOption\u001b[49m\u001b[38;5;241;43m.\u001b[39;49m\u001b[43muser_entered\u001b[49m\u001b[43m}\u001b[49m\u001b[43m,\u001b[49m\n\u001b[0;32m    607\u001b[0m \u001b[43m    \u001b[49m\u001b[43mbody\u001b[49m\u001b[38;5;241;43m=\u001b[39;49m\u001b[43m{\u001b[49m\u001b[38;5;124;43m\"\u001b[39;49m\u001b[38;5;124;43mvalues\u001b[39;49m\u001b[38;5;124;43m\"\u001b[39;49m\u001b[43m:\u001b[49m\u001b[43m \u001b[49m\u001b[43m[\u001b[49m\u001b[43m[\u001b[49m\u001b[43mvalue\u001b[49m\u001b[43m]\u001b[49m\u001b[43m]\u001b[49m\u001b[43m}\u001b[49m\u001b[43m,\u001b[49m\n\u001b[0;32m    608\u001b[0m \u001b[43m\u001b[49m\u001b[43m)\u001b[49m\n\u001b[0;32m    610\u001b[0m \u001b[38;5;28;01mreturn\u001b[39;00m data\n",
      "File \u001b[1;32m~\\AppData\\Roaming\\Python\\Python39\\site-packages\\gspread\\spreadsheet.py:226\u001b[0m, in \u001b[0;36mSpreadsheet.values_update\u001b[1;34m(self, range, params, body)\u001b[0m\n\u001b[0;32m    203\u001b[0m \u001b[38;5;124;03m\"\"\"Lower-level method that directly calls `spreadsheets/<ID>/values/<range>`_.\u001b[39;00m\n\u001b[0;32m    204\u001b[0m \n\u001b[0;32m    205\u001b[0m \u001b[38;5;124;03m:param str range: The `A1 notation <https://developers.google.com/sheets/api/guides/concepts#a1_notation>`_ of the values to update.\u001b[39;00m\n\u001b[1;32m   (...)\u001b[0m\n\u001b[0;32m    223\u001b[0m \u001b[38;5;124;03m.. versionadded:: 3.0\u001b[39;00m\n\u001b[0;32m    224\u001b[0m \u001b[38;5;124;03m\"\"\"\u001b[39;00m\n\u001b[0;32m    225\u001b[0m url \u001b[38;5;241m=\u001b[39m SPREADSHEET_VALUES_URL \u001b[38;5;241m%\u001b[39m (\u001b[38;5;28mself\u001b[39m\u001b[38;5;241m.\u001b[39mid, quote(\u001b[38;5;28mrange\u001b[39m))\n\u001b[1;32m--> 226\u001b[0m r \u001b[38;5;241m=\u001b[39m \u001b[38;5;28;43mself\u001b[39;49m\u001b[38;5;241;43m.\u001b[39;49m\u001b[43mclient\u001b[49m\u001b[38;5;241;43m.\u001b[39;49m\u001b[43mrequest\u001b[49m\u001b[43m(\u001b[49m\u001b[38;5;124;43m\"\u001b[39;49m\u001b[38;5;124;43mput\u001b[39;49m\u001b[38;5;124;43m\"\u001b[39;49m\u001b[43m,\u001b[49m\u001b[43m \u001b[49m\u001b[43murl\u001b[49m\u001b[43m,\u001b[49m\u001b[43m \u001b[49m\u001b[43mparams\u001b[49m\u001b[38;5;241;43m=\u001b[39;49m\u001b[43mparams\u001b[49m\u001b[43m,\u001b[49m\u001b[43m \u001b[49m\u001b[43mjson\u001b[49m\u001b[38;5;241;43m=\u001b[39;49m\u001b[43mbody\u001b[49m\u001b[43m)\u001b[49m\n\u001b[0;32m    227\u001b[0m \u001b[38;5;28;01mreturn\u001b[39;00m r\u001b[38;5;241m.\u001b[39mjson()\n",
      "File \u001b[1;32m~\\AppData\\Roaming\\Python\\Python39\\site-packages\\gspread\\client.py:92\u001b[0m, in \u001b[0;36mClient.request\u001b[1;34m(self, method, endpoint, params, data, json, files, headers)\u001b[0m\n\u001b[0;32m     90\u001b[0m     \u001b[38;5;28;01mreturn\u001b[39;00m response\n\u001b[0;32m     91\u001b[0m \u001b[38;5;28;01melse\u001b[39;00m:\n\u001b[1;32m---> 92\u001b[0m     \u001b[38;5;28;01mraise\u001b[39;00m APIError(response)\n",
      "\u001b[1;31mAPIError\u001b[0m: {'code': 429, 'message': \"Quota exceeded for quota metric 'Write requests' and limit 'Write requests per minute per user' of service 'sheets.googleapis.com' for consumer 'project_number:902170699260'.\", 'status': 'RESOURCE_EXHAUSTED', 'details': [{'@type': 'type.googleapis.com/google.rpc.ErrorInfo', 'reason': 'RATE_LIMIT_EXCEEDED', 'domain': 'googleapis.com', 'metadata': {'service': 'sheets.googleapis.com', 'quota_location': 'global', 'quota_metric': 'sheets.googleapis.com/write_requests', 'consumer': 'projects/902170699260', 'quota_limit_value': '60', 'quota_limit': 'WriteRequestsPerMinutePerUser'}}, {'@type': 'type.googleapis.com/google.rpc.Help', 'links': [{'description': 'Request a higher quota limit.', 'url': 'https://cloud.google.com/docs/quota#requesting_higher_quota'}]}]}"
     ]
    }
   ],
   "source": [
    "while (True):\n",
    "    change()\n",
    "    time.sleep(1)"
   ]
  }
 ],
 "metadata": {
  "colab": {
   "provenance": []
  },
  "kernelspec": {
   "display_name": "Python 3 (ipykernel)",
   "language": "python",
   "name": "python3"
  },
  "language_info": {
   "codemirror_mode": {
    "name": "ipython",
    "version": 3
   },
   "file_extension": ".py",
   "mimetype": "text/x-python",
   "name": "python",
   "nbconvert_exporter": "python",
   "pygments_lexer": "ipython3",
   "version": "3.9.12"
  }
 },
 "nbformat": 4,
 "nbformat_minor": 1
}
